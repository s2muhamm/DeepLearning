{
  "nbformat": 4,
  "nbformat_minor": 0,
  "metadata": {
    "colab": {
      "name": "Fashion MNIST",
      "provenance": [],
      "collapsed_sections": [],
      "authorship_tag": "ABX9TyMDn8xP+/hMj19Z5OWXNYag"
    },
    "kernelspec": {
      "name": "python3",
      "display_name": "Python 3"
    },
    "accelerator": "GPU"
  },
  "cells": [
    {
      "cell_type": "code",
      "metadata": {
        "colab": {
          "base_uri": "https://localhost:8080/"
        },
        "id": "pUwhBxkY95BL",
        "outputId": "74b5cda4-f15f-4d3d-b1f4-a060ecbc8d47"
      },
      "source": [
        "#import Tensorflow & Keras\r\n",
        "import tensorflow as tf\r\n",
        "from tensorflow import keras\r\n",
        "print(keras.__version__)"
      ],
      "execution_count": 37,
      "outputs": [
        {
          "output_type": "stream",
          "text": [
            "2.4.0\n"
          ],
          "name": "stdout"
        }
      ]
    },
    {
      "cell_type": "markdown",
      "metadata": {
        "id": "iWYMbpB3-TUM"
      },
      "source": [
        "## Using Keras to Load Dataset"
      ]
    },
    {
      "cell_type": "code",
      "metadata": {
        "id": "-jydjEq1-XIc"
      },
      "source": [
        "fashion_mnist = keras.datasets.fashion_mnist\r\n",
        "(X_train_full, y_train_full), (X_test, y_test) = fashion_mnist.load_data()"
      ],
      "execution_count": 38,
      "outputs": []
    },
    {
      "cell_type": "code",
      "metadata": {
        "colab": {
          "base_uri": "https://localhost:8080/"
        },
        "id": "rlC7adot-sV9",
        "outputId": "352992cf-b40a-426b-9414-f52e6765f933"
      },
      "source": [
        "#check the shape of X and Y\r\n",
        "print(X_train_full.shape)\r\n",
        "print(y_train_full.shape)"
      ],
      "execution_count": 39,
      "outputs": [
        {
          "output_type": "stream",
          "text": [
            "(60000, 28, 28)\n",
            "(60000,)\n"
          ],
          "name": "stdout"
        }
      ]
    },
    {
      "cell_type": "markdown",
      "metadata": {
        "id": "Xh8Q9lBG_bKC"
      },
      "source": [
        "## Now create a validation set and convert pixels from 0 -1 by dividing by 255"
      ]
    },
    {
      "cell_type": "code",
      "metadata": {
        "id": "RMTB5y-5_ftJ"
      },
      "source": [
        "X_train, X_val = X_train_full[:50000] / 255.0, X_train_full[50000:] / 255.0\r\n",
        "y_train, y_val = y_train_full[:50000] , y_train_full[50000:] "
      ],
      "execution_count": 40,
      "outputs": []
    },
    {
      "cell_type": "code",
      "metadata": {
        "id": "n8hIRZ1D_mZh"
      },
      "source": [
        "class_names = [\"T-shirt\", \"Trouser\", \"Pullover\", \"Dress\", \"Coat\", \"Sandal\", \"Shirt\", \"Sneaker\", \"Bag\", \"Ankle Boot\"]"
      ],
      "execution_count": 41,
      "outputs": []
    },
    {
      "cell_type": "code",
      "metadata": {
        "colab": {
          "base_uri": "https://localhost:8080/",
          "height": 35
        },
        "id": "sjBG6LutAXCF",
        "outputId": "5ac2334e-d6c7-443e-932f-54978bbafaca"
      },
      "source": [
        "class_names[y_train[30000]]"
      ],
      "execution_count": 42,
      "outputs": [
        {
          "output_type": "execute_result",
          "data": {
            "application/vnd.google.colaboratory.intrinsic+json": {
              "type": "string"
            },
            "text/plain": [
              "'Dress'"
            ]
          },
          "metadata": {
            "tags": []
          },
          "execution_count": 42
        }
      ]
    },
    {
      "cell_type": "markdown",
      "metadata": {
        "id": "HNuz5hznAqQJ"
      },
      "source": [
        "## Create a Sequential Model"
      ]
    },
    {
      "cell_type": "code",
      "metadata": {
        "colab": {
          "base_uri": "https://localhost:8080/"
        },
        "id": "elN0Gzv7SjNl",
        "outputId": "b84acf96-60ab-494d-9ec3-db62fe43b957"
      },
      "source": [
        "model = keras.models.Sequential([\r\n",
        "    keras.layers.Flatten(input_shape = [28,28]),                                \r\n",
        "    keras.layers.Dense(units = 300, activation='relu'),\r\n",
        "    keras.layers.Dense(units = 100, activation='relu'),\r\n",
        "    keras.layers.Dense(10, activation='softmax')\r\n",
        "])\r\n",
        "model.summary()"
      ],
      "execution_count": 61,
      "outputs": [
        {
          "output_type": "stream",
          "text": [
            "Model: \"sequential_4\"\n",
            "_________________________________________________________________\n",
            "Layer (type)                 Output Shape              Param #   \n",
            "=================================================================\n",
            "flatten_6 (Flatten)          (None, 784)               0         \n",
            "_________________________________________________________________\n",
            "dense_18 (Dense)             (None, 300)               235500    \n",
            "_________________________________________________________________\n",
            "dense_19 (Dense)             (None, 100)               30100     \n",
            "_________________________________________________________________\n",
            "dense_20 (Dense)             (None, 10)                1010      \n",
            "=================================================================\n",
            "Total params: 266,610\n",
            "Trainable params: 266,610\n",
            "Non-trainable params: 0\n",
            "_________________________________________________________________\n"
          ],
          "name": "stdout"
        }
      ]
    },
    {
      "cell_type": "markdown",
      "metadata": {
        "id": "fIgSIsOSUcxg"
      },
      "source": [
        "Check Weights & Bias of Hidden Layers"
      ]
    },
    {
      "cell_type": "code",
      "metadata": {
        "colab": {
          "base_uri": "https://localhost:8080/"
        },
        "id": "ZjFohbwoUf-w",
        "outputId": "5ad0520f-5a2a-4b66-d9bd-e1c0996f3658"
      },
      "source": [
        "model.layers"
      ],
      "execution_count": 62,
      "outputs": [
        {
          "output_type": "execute_result",
          "data": {
            "text/plain": [
              "[<tensorflow.python.keras.layers.core.Flatten at 0x7f8b1a655dd0>,\n",
              " <tensorflow.python.keras.layers.core.Dense at 0x7f8b70151990>,\n",
              " <tensorflow.python.keras.layers.core.Dense at 0x7f8b1653ae10>,\n",
              " <tensorflow.python.keras.layers.core.Dense at 0x7f8b16093850>]"
            ]
          },
          "metadata": {
            "tags": []
          },
          "execution_count": 62
        }
      ]
    },
    {
      "cell_type": "code",
      "metadata": {
        "id": "CKBCPIMBUmLS"
      },
      "source": [
        "weights, biases = model.layers[1].get_weights()"
      ],
      "execution_count": 63,
      "outputs": []
    },
    {
      "cell_type": "code",
      "metadata": {
        "colab": {
          "base_uri": "https://localhost:8080/"
        },
        "id": "qAEQLfybU-A2",
        "outputId": "721d5374-c046-49d2-fc07-59a0a5f427f2"
      },
      "source": [
        "weights"
      ],
      "execution_count": 64,
      "outputs": [
        {
          "output_type": "execute_result",
          "data": {
            "text/plain": [
              "array([[ 0.02922029,  0.01495183,  0.03576879, ...,  0.04925878,\n",
              "        -0.05870818,  0.0413373 ],\n",
              "       [-0.04708944,  0.04152618,  0.0272126 , ...,  0.03954289,\n",
              "        -0.03630011, -0.01595871],\n",
              "       [ 0.03267568,  0.02345794, -0.07410365, ..., -0.06793426,\n",
              "        -0.00764026,  0.00225227],\n",
              "       ...,\n",
              "       [-0.05463772,  0.0650408 ,  0.00418828, ..., -0.03112742,\n",
              "         0.02105004, -0.04860078],\n",
              "       [ 0.01339529, -0.02133009, -0.03125754, ...,  0.064402  ,\n",
              "        -0.04963522,  0.05238947],\n",
              "       [-0.06763866,  0.030677  ,  0.03264583, ..., -0.02997273,\n",
              "        -0.07249177,  0.07401814]], dtype=float32)"
            ]
          },
          "metadata": {
            "tags": []
          },
          "execution_count": 64
        }
      ]
    },
    {
      "cell_type": "code",
      "metadata": {
        "colab": {
          "base_uri": "https://localhost:8080/"
        },
        "id": "dbJHm4IyVPU_",
        "outputId": "b860fdbe-3449-472b-d0e6-03d17fc89be1"
      },
      "source": [
        "biases"
      ],
      "execution_count": 65,
      "outputs": [
        {
          "output_type": "execute_result",
          "data": {
            "text/plain": [
              "array([0., 0., 0., 0., 0., 0., 0., 0., 0., 0., 0., 0., 0., 0., 0., 0., 0.,\n",
              "       0., 0., 0., 0., 0., 0., 0., 0., 0., 0., 0., 0., 0., 0., 0., 0., 0.,\n",
              "       0., 0., 0., 0., 0., 0., 0., 0., 0., 0., 0., 0., 0., 0., 0., 0., 0.,\n",
              "       0., 0., 0., 0., 0., 0., 0., 0., 0., 0., 0., 0., 0., 0., 0., 0., 0.,\n",
              "       0., 0., 0., 0., 0., 0., 0., 0., 0., 0., 0., 0., 0., 0., 0., 0., 0.,\n",
              "       0., 0., 0., 0., 0., 0., 0., 0., 0., 0., 0., 0., 0., 0., 0., 0., 0.,\n",
              "       0., 0., 0., 0., 0., 0., 0., 0., 0., 0., 0., 0., 0., 0., 0., 0., 0.,\n",
              "       0., 0., 0., 0., 0., 0., 0., 0., 0., 0., 0., 0., 0., 0., 0., 0., 0.,\n",
              "       0., 0., 0., 0., 0., 0., 0., 0., 0., 0., 0., 0., 0., 0., 0., 0., 0.,\n",
              "       0., 0., 0., 0., 0., 0., 0., 0., 0., 0., 0., 0., 0., 0., 0., 0., 0.,\n",
              "       0., 0., 0., 0., 0., 0., 0., 0., 0., 0., 0., 0., 0., 0., 0., 0., 0.,\n",
              "       0., 0., 0., 0., 0., 0., 0., 0., 0., 0., 0., 0., 0., 0., 0., 0., 0.,\n",
              "       0., 0., 0., 0., 0., 0., 0., 0., 0., 0., 0., 0., 0., 0., 0., 0., 0.,\n",
              "       0., 0., 0., 0., 0., 0., 0., 0., 0., 0., 0., 0., 0., 0., 0., 0., 0.,\n",
              "       0., 0., 0., 0., 0., 0., 0., 0., 0., 0., 0., 0., 0., 0., 0., 0., 0.,\n",
              "       0., 0., 0., 0., 0., 0., 0., 0., 0., 0., 0., 0., 0., 0., 0., 0., 0.,\n",
              "       0., 0., 0., 0., 0., 0., 0., 0., 0., 0., 0., 0., 0., 0., 0., 0., 0.,\n",
              "       0., 0., 0., 0., 0., 0., 0., 0., 0., 0., 0.], dtype=float32)"
            ]
          },
          "metadata": {
            "tags": []
          },
          "execution_count": 65
        }
      ]
    },
    {
      "cell_type": "markdown",
      "metadata": {
        "id": "03VXHy2BYa1g"
      },
      "source": [
        "## Compile the Model"
      ]
    },
    {
      "cell_type": "code",
      "metadata": {
        "colab": {
          "base_uri": "https://localhost:8080/"
        },
        "id": "DwIUvwMDYc8B",
        "outputId": "52e72af4-8bac-4a26-a8c3-3e0018515ba3"
      },
      "source": [
        "optimizer = keras.optimizers.SGD(lr = 0.01)\r\n",
        "model.compile(optimizer= optimizer, loss= 'sparse_categorical_crossentropy', metrics = ['accuracy'])\r\n",
        "history =  model.fit(X_train,y_train, epochs = 30, validation_data = (X_val, y_val))"
      ],
      "execution_count": 66,
      "outputs": [
        {
          "output_type": "stream",
          "text": [
            "Epoch 1/30\n",
            "1563/1563 [==============================] - 4s 2ms/step - loss: 1.0007 - accuracy: 0.6844 - val_loss: 0.5307 - val_accuracy: 0.8200\n",
            "Epoch 2/30\n",
            "1563/1563 [==============================] - 3s 2ms/step - loss: 0.4990 - accuracy: 0.8275 - val_loss: 0.4880 - val_accuracy: 0.8259\n",
            "Epoch 3/30\n",
            "1563/1563 [==============================] - 3s 2ms/step - loss: 0.4563 - accuracy: 0.8423 - val_loss: 0.4511 - val_accuracy: 0.8422\n",
            "Epoch 4/30\n",
            "1563/1563 [==============================] - 3s 2ms/step - loss: 0.4362 - accuracy: 0.8488 - val_loss: 0.4216 - val_accuracy: 0.8541\n",
            "Epoch 5/30\n",
            "1563/1563 [==============================] - 3s 2ms/step - loss: 0.4023 - accuracy: 0.8606 - val_loss: 0.4179 - val_accuracy: 0.8534\n",
            "Epoch 6/30\n",
            "1563/1563 [==============================] - 3s 2ms/step - loss: 0.3853 - accuracy: 0.8637 - val_loss: 0.4247 - val_accuracy: 0.8530\n",
            "Epoch 7/30\n",
            "1563/1563 [==============================] - 3s 2ms/step - loss: 0.3698 - accuracy: 0.8696 - val_loss: 0.3858 - val_accuracy: 0.8646\n",
            "Epoch 8/30\n",
            "1563/1563 [==============================] - 3s 2ms/step - loss: 0.3540 - accuracy: 0.8749 - val_loss: 0.3842 - val_accuracy: 0.8664\n",
            "Epoch 9/30\n",
            "1563/1563 [==============================] - 3s 2ms/step - loss: 0.3437 - accuracy: 0.8775 - val_loss: 0.3899 - val_accuracy: 0.8636\n",
            "Epoch 10/30\n",
            "1563/1563 [==============================] - 3s 2ms/step - loss: 0.3406 - accuracy: 0.8785 - val_loss: 0.3803 - val_accuracy: 0.8665\n",
            "Epoch 11/30\n",
            "1563/1563 [==============================] - 3s 2ms/step - loss: 0.3279 - accuracy: 0.8827 - val_loss: 0.3859 - val_accuracy: 0.8599\n",
            "Epoch 12/30\n",
            "1563/1563 [==============================] - 3s 2ms/step - loss: 0.3216 - accuracy: 0.8842 - val_loss: 0.3988 - val_accuracy: 0.8592\n",
            "Epoch 13/30\n",
            "1563/1563 [==============================] - 3s 2ms/step - loss: 0.3094 - accuracy: 0.8906 - val_loss: 0.3534 - val_accuracy: 0.8732\n",
            "Epoch 14/30\n",
            "1563/1563 [==============================] - 3s 2ms/step - loss: 0.3110 - accuracy: 0.8891 - val_loss: 0.3599 - val_accuracy: 0.8682\n",
            "Epoch 15/30\n",
            "1563/1563 [==============================] - 3s 2ms/step - loss: 0.3078 - accuracy: 0.8887 - val_loss: 0.3364 - val_accuracy: 0.8817\n",
            "Epoch 16/30\n",
            "1563/1563 [==============================] - 3s 2ms/step - loss: 0.2968 - accuracy: 0.8941 - val_loss: 0.3393 - val_accuracy: 0.8789\n",
            "Epoch 17/30\n",
            "1563/1563 [==============================] - 3s 2ms/step - loss: 0.2881 - accuracy: 0.8973 - val_loss: 0.3375 - val_accuracy: 0.8817\n",
            "Epoch 18/30\n",
            "1563/1563 [==============================] - 3s 2ms/step - loss: 0.2817 - accuracy: 0.8995 - val_loss: 0.3399 - val_accuracy: 0.8804\n",
            "Epoch 19/30\n",
            "1563/1563 [==============================] - 3s 2ms/step - loss: 0.2803 - accuracy: 0.8995 - val_loss: 0.3300 - val_accuracy: 0.8831\n",
            "Epoch 20/30\n",
            "1563/1563 [==============================] - 3s 2ms/step - loss: 0.2746 - accuracy: 0.9026 - val_loss: 0.3384 - val_accuracy: 0.8791\n",
            "Epoch 21/30\n",
            "1563/1563 [==============================] - 3s 2ms/step - loss: 0.2667 - accuracy: 0.9031 - val_loss: 0.3382 - val_accuracy: 0.8769\n",
            "Epoch 22/30\n",
            "1563/1563 [==============================] - 3s 2ms/step - loss: 0.2631 - accuracy: 0.9056 - val_loss: 0.3366 - val_accuracy: 0.8795\n",
            "Epoch 23/30\n",
            "1563/1563 [==============================] - 3s 2ms/step - loss: 0.2602 - accuracy: 0.9057 - val_loss: 0.3377 - val_accuracy: 0.8804\n",
            "Epoch 24/30\n",
            "1563/1563 [==============================] - 3s 2ms/step - loss: 0.2554 - accuracy: 0.9088 - val_loss: 0.3258 - val_accuracy: 0.8832\n",
            "Epoch 25/30\n",
            "1563/1563 [==============================] - 3s 2ms/step - loss: 0.2448 - accuracy: 0.9126 - val_loss: 0.3173 - val_accuracy: 0.8858\n",
            "Epoch 26/30\n",
            "1563/1563 [==============================] - 3s 2ms/step - loss: 0.2377 - accuracy: 0.9134 - val_loss: 0.3138 - val_accuracy: 0.8889\n",
            "Epoch 27/30\n",
            "1563/1563 [==============================] - 3s 2ms/step - loss: 0.2353 - accuracy: 0.9174 - val_loss: 0.3706 - val_accuracy: 0.8689\n",
            "Epoch 28/30\n",
            "1563/1563 [==============================] - 3s 2ms/step - loss: 0.2394 - accuracy: 0.9143 - val_loss: 0.3161 - val_accuracy: 0.8875\n",
            "Epoch 29/30\n",
            "1563/1563 [==============================] - 3s 2ms/step - loss: 0.2280 - accuracy: 0.9183 - val_loss: 0.3540 - val_accuracy: 0.8741\n",
            "Epoch 30/30\n",
            "1563/1563 [==============================] - 3s 2ms/step - loss: 0.2296 - accuracy: 0.9191 - val_loss: 0.3147 - val_accuracy: 0.8895\n"
          ],
          "name": "stdout"
        }
      ]
    },
    {
      "cell_type": "markdown",
      "metadata": {
        "id": "6i-1RbhFafu6"
      },
      "source": [
        "## Plot Learning Curves"
      ]
    },
    {
      "cell_type": "code",
      "metadata": {
        "id": "dmILrcAeakbx"
      },
      "source": [
        "import pandas as pd\r\n",
        "import matplotlib.pyplot as plt\r\n"
      ],
      "execution_count": 67,
      "outputs": []
    },
    {
      "cell_type": "code",
      "metadata": {
        "colab": {
          "base_uri": "https://localhost:8080/",
          "height": 324
        },
        "id": "7SS0fLN5anVd",
        "outputId": "a97a5ce7-f437-4c89-a5d5-a0715849e91d"
      },
      "source": [
        "pd.DataFrame(history.history).plot(figsize = (8,5))\r\n",
        "plt.grid(True)\r\n",
        "plt.gca().set_ylim(0,1)\r\n",
        "plt.show()"
      ],
      "execution_count": 68,
      "outputs": [
        {
          "output_type": "display_data",
          "data": {
            "image/png": "[encoded data removed]",
            "text/plain": [
              "<Figure size 576x360 with 1 Axes>"
            ]
          },
          "metadata": {
            "tags": [],
            "needs_background": "light"
          }
        }
      ]
    },
    {
      "cell_type": "code",
      "metadata": {
        "colab": {
          "base_uri": "https://localhost:8080/"
        },
        "id": "60iqxFYlczBH",
        "outputId": "5025c7e8-a6f0-4e67-f108-2f9d07109cd6"
      },
      "source": [
        "model.evaluate(X_test, y_test)"
      ],
      "execution_count": 69,
      "outputs": [
        {
          "output_type": "stream",
          "text": [
            "313/313 [==============================] - 1s 2ms/step - loss: 65.5059 - accuracy: 0.8476\n"
          ],
          "name": "stdout"
        },
        {
          "output_type": "execute_result",
          "data": {
            "text/plain": [
              "[65.505859375, 0.847599983215332]"
            ]
          },
          "metadata": {
            "tags": []
          },
          "execution_count": 69
        }
      ]
    },
    {
      "cell_type": "markdown",
      "metadata": {
        "id": "HEOZFvPceFzm"
      },
      "source": [
        "## Make Prediction"
      ]
    },
    {
      "cell_type": "code",
      "metadata": {
        "id": "QkkqDNmceHfv"
      },
      "source": [
        "X_new = X_test[:3]"
      ],
      "execution_count": 74,
      "outputs": []
    },
    {
      "cell_type": "code",
      "metadata": {
        "colab": {
          "base_uri": "https://localhost:8080/"
        },
        "id": "_RZcXWd-eRSD",
        "outputId": "4057d361-4acd-4630-bc82-4d54c10b2100"
      },
      "source": [
        "X_new"
      ],
      "execution_count": 75,
      "outputs": [
        {
          "output_type": "execute_result",
          "data": {
            "text/plain": [
              "array([[[0, 0, 0, ..., 0, 0, 0],\n",
              "        [0, 0, 0, ..., 0, 0, 0],\n",
              "        [0, 0, 0, ..., 0, 0, 0],\n",
              "        ...,\n",
              "        [0, 0, 0, ..., 0, 0, 0],\n",
              "        [0, 0, 0, ..., 0, 0, 0],\n",
              "        [0, 0, 0, ..., 0, 0, 0]],\n",
              "\n",
              "       [[0, 0, 0, ..., 0, 0, 0],\n",
              "        [0, 0, 0, ..., 0, 0, 0],\n",
              "        [0, 0, 0, ..., 0, 0, 0],\n",
              "        ...,\n",
              "        [0, 0, 0, ..., 0, 0, 0],\n",
              "        [0, 0, 0, ..., 0, 0, 0],\n",
              "        [0, 0, 0, ..., 0, 0, 0]],\n",
              "\n",
              "       [[0, 0, 0, ..., 0, 0, 0],\n",
              "        [0, 0, 0, ..., 0, 0, 0],\n",
              "        [0, 0, 0, ..., 0, 0, 0],\n",
              "        ...,\n",
              "        [0, 0, 0, ..., 0, 0, 0],\n",
              "        [0, 0, 0, ..., 0, 0, 0],\n",
              "        [0, 0, 0, ..., 0, 0, 0]]], dtype=uint8)"
            ]
          },
          "metadata": {
            "tags": []
          },
          "execution_count": 75
        }
      ]
    },
    {
      "cell_type": "code",
      "metadata": {
        "id": "RoyQPYRMebDZ"
      },
      "source": [
        "y_pred = model.predict(X_new)"
      ],
      "execution_count": 88,
      "outputs": []
    },
    {
      "cell_type": "code",
      "metadata": {
        "colab": {
          "base_uri": "https://localhost:8080/"
        },
        "id": "3yGJyGAbej6H",
        "outputId": "81bbc4f6-0140-41bc-f9a5-5df25d595e3a"
      },
      "source": [
        "y_pred.round(2)"
      ],
      "execution_count": 89,
      "outputs": [
        {
          "output_type": "execute_result",
          "data": {
            "text/plain": [
              "array([[0., 0., 0., 0., 0., 0., 0., 0., 0., 1.],\n",
              "       [0., 0., 1., 0., 0., 0., 0., 0., 0., 0.],\n",
              "       [0., 1., 0., 0., 0., 0., 0., 0., 0., 0.]], dtype=float32)"
            ]
          },
          "metadata": {
            "tags": []
          },
          "execution_count": 89
        }
      ]
    },
    {
      "cell_type": "code",
      "metadata": {
        "id": "oVG_28mseka-"
      },
      "source": [
        "import numpy as np"
      ],
      "execution_count": 90,
      "outputs": []
    },
    {
      "cell_type": "code",
      "metadata": {
        "colab": {
          "base_uri": "https://localhost:8080/"
        },
        "id": "7jdB7EKke0mL",
        "outputId": "41855e17-b4dc-4bfd-bd30-bfe09e016ac1"
      },
      "source": [
        "y_pred = model.predict_classes(X_new)"
      ],
      "execution_count": 91,
      "outputs": [
        {
          "output_type": "stream",
          "text": [
            "/usr/local/lib/python3.7/dist-packages/tensorflow/python/keras/engine/sequential.py:450: UserWarning: `model.predict_classes()` is deprecated and will be removed after 2021-01-01. Please use instead:* `np.argmax(model.predict(x), axis=-1)`,   if your model does multi-class classification   (e.g. if it uses a `softmax` last-layer activation).* `(model.predict(x) > 0.5).astype(\"int32\")`,   if your model does binary classification   (e.g. if it uses a `sigmoid` last-layer activation).\n",
            "  warnings.warn('`model.predict_classes()` is deprecated and '\n"
          ],
          "name": "stderr"
        }
      ]
    },
    {
      "cell_type": "code",
      "metadata": {
        "colab": {
          "base_uri": "https://localhost:8080/"
        },
        "id": "3F5N9iSUe_tL",
        "outputId": "ee33b059-358a-46ee-b9a4-8a273a1977cf"
      },
      "source": [
        "y_pred"
      ],
      "execution_count": 92,
      "outputs": [
        {
          "output_type": "execute_result",
          "data": {
            "text/plain": [
              "array([9, 2, 1])"
            ]
          },
          "metadata": {
            "tags": []
          },
          "execution_count": 92
        }
      ]
    },
    {
      "cell_type": "code",
      "metadata": {
        "id": "NXidW4ixfCk-"
      },
      "source": [
        "# This function will plot images in the form of a grid with 1 row and 5 columns where images are placed in each column.\r\n",
        "def plotImages(images_arr):\r\n",
        "    fig, axes = plt.subplots(1, 5, figsize=(20,20))\r\n",
        "    axes = axes.flatten()\r\n",
        "    for img, ax in zip(images_arr, axes):\r\n",
        "        ax.imshow(img)\r\n",
        "    plt.tight_layout()\r\n",
        "    plt.show()"
      ],
      "execution_count": 93,
      "outputs": []
    },
    {
      "cell_type": "code",
      "metadata": {
        "colab": {
          "base_uri": "https://localhost:8080/",
          "height": 303
        },
        "id": "I71z63y0fnh0",
        "outputId": "0a97af41-5151-4fa7-a739-94e00b108fb6"
      },
      "source": [
        "plotImages(X_test[:5])  # Plot images 0-4"
      ],
      "execution_count": 97,
      "outputs": [
        {
          "output_type": "display_data",
          "data": {
            "image/png": "[encoded data removed]",
            "text/plain": [
              "<Figure size 1440x1440 with 5 Axes>"
            ]
          },
          "metadata": {
            "tags": [],
            "needs_background": "light"
          }
        }
      ]
    },
    {
      "cell_type": "code",
      "metadata": {
        "colab": {
          "base_uri": "https://localhost:8080/",
          "height": 282
        },
        "id": "2ViaGMszfrbM",
        "outputId": "2a09d3da-82c0-4a5f-a111-3391220c40b4"
      },
      "source": [
        "plt.imshow(X_test[2])"
      ],
      "execution_count": 99,
      "outputs": [
        {
          "output_type": "execute_result",
          "data": {
            "text/plain": [
              "<matplotlib.image.AxesImage at 0x7f8b00ef1ad0>"
            ]
          },
          "metadata": {
            "tags": []
          },
          "execution_count": 99
        },
        {
          "output_type": "display_data",
          "data": {
            "image/png": "[encoded data removed]",
            "text/plain": [
              "<Figure size 432x288 with 1 Axes>"
            ]
          },
          "metadata": {
            "tags": [],
            "needs_background": "light"
          }
        }
      ]
    },
    {
      "cell_type": "code",
      "metadata": {
        "id": "fK_R--N4gfiU"
      },
      "source": [
        ""
      ],
      "execution_count": null,
      "outputs": []
    }
  ]
}